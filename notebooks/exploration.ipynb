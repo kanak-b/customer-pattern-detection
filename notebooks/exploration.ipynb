{
  "nbformat": 4,
  "nbformat_minor": 0,
  "metadata": {
    "colab": {
      "provenance": []
    },
    "kernelspec": {
      "name": "python3",
      "display_name": "Python 3"
    },
    "language_info": {
      "name": "python"
    }
  },
  "cells": [
    {
      "cell_type": "code",
      "execution_count": null,
      "metadata": {
        "id": "1qScF_iY9f6Z"
      },
      "outputs": [],
      "source": [
        "from pyspark.sql import SparkSession\n",
        "spark = SparkSession.builder.appName(\"assignment\").getOrCreate()"
      ]
    },
    {
      "cell_type": "code",
      "source": [
        "import urllib.request\n",
        "\n",
        "def download_from_gdrive(file_id: str, output_path: str):\n",
        "    \"\"\"Download a public Google Drive file using urllib.\"\"\"\n",
        "    url = f\"https://drive.google.com/uc?export=download&id={file_id}\"\n",
        "    try:\n",
        "        urllib.request.urlretrieve(url, output_path)\n",
        "        print(f\"✅ Downloaded to: {output_path}\")\n",
        "    except Exception as e:\n",
        "        print(f\"❌ Failed to download {file_id}: {e}\")\n",
        "\n",
        "def load_csv_to_spark(path: str):\n",
        "    \"\"\"Load CSV file into Spark DataFrame.\"\"\"\n",
        "    try:\n",
        "        df = spark.read.csv(path, header=True, inferSchema=True)\n",
        "        print(f\"✅ Loaded CSV into Spark: {path}\")\n",
        "        return df\n",
        "    except Exception as e:\n",
        "        print(f\"❌ Failed to load CSV {path}: {e}\")\n",
        "        return None\n",
        "\n",
        "# === Define files ===\n",
        "files_to_download = {\n",
        "    \"transactions\": {\n",
        "        \"file_id\": \"1AGXVlDhbMbhoGXDJG0IThnqz86Qy3hqb\",\n",
        "        \"path\": \"/tmp/transactions.csv\"\n",
        "    },\n",
        "    \"cust_imp\": {\n",
        "        \"file_id\": \"1abe9EkM_uf2F2hjEkbhMBG9Mf2dFE4Wo\",\n",
        "        \"path\": \"/tmp/CustomerImportance.csv\"\n",
        "    }\n",
        "}\n",
        "\n",
        "# === Download and Load ===\n",
        "dataframes = {}\n",
        "for name, info in files_to_download.items():\n",
        "    download_from_gdrive(info[\"file_id\"], info[\"path\"])\n",
        "    dataframes[name] = load_csv_to_spark(info[\"path\"])\n",
        "\n",
        "# Access your dataframes:\n",
        "transactions = dataframes[\"transactions\"]\n",
        "cust_imp = dataframes[\"cust_imp\"]\n",
        "\n",
        "# Quick preview\n",
        "transactions.show(3)\n",
        "cust_imp.show(3)\n"
      ],
      "metadata": {
        "colab": {
          "base_uri": "https://localhost:8080/"
        },
        "id": "m4sjyvPntp4-",
        "outputId": "9fa48ce0-1e98-4044-d82c-d880bd8cc123"
      },
      "execution_count": null,
      "outputs": [
        {
          "output_type": "stream",
          "name": "stdout",
          "text": [
            "✅ Downloaded to: /tmp/transactions.csv\n",
            "✅ Loaded CSV into Spark: /tmp/transactions.csv\n",
            "✅ Downloaded to: /tmp/CustomerImportance.csv\n",
            "✅ Loaded CSV into Spark: /tmp/CustomerImportance.csv\n",
            "+----+-------------+---+------+----------+-------------+-----------+-------------------+------+-----+\n",
            "|step|     customer|age|gender|zipcodeOri|     merchant|zipMerchant|           category|amount|fraud|\n",
            "+----+-------------+---+------+----------+-------------+-----------+-------------------+------+-----+\n",
            "|   0|'C1093826151'|'4'|   'M'|   '28007'| 'M348934600'|    '28007'|'es_transportation'|  4.55|    0|\n",
            "|   0| 'C352968107'|'2'|   'M'|   '28007'| 'M348934600'|    '28007'|'es_transportation'| 39.68|    0|\n",
            "|   0|'C2054744914'|'4'|   'F'|   '28007'|'M1823072687'|    '28007'|'es_transportation'| 26.89|    0|\n",
            "+----+-------------+---+------+----------+-------------+-----------+-------------------+------+-----+\n",
            "only showing top 3 rows\n",
            "\n",
            "+-------------+-------------+------+-------------------+-----+\n",
            "|       Source|       Target|Weight|          typeTrans|fraud|\n",
            "+-------------+-------------+------+-------------------+-----+\n",
            "|'C1093826151'| 'M348934600'|  4.55|'es_transportation'|    0|\n",
            "| 'C352968107'| 'M348934600'| 39.68|'es_transportation'|    0|\n",
            "|'C2054744914'|'M1823072687'| 26.89|'es_transportation'|    0|\n",
            "+-------------+-------------+------+-------------------+-----+\n",
            "only showing top 3 rows\n",
            "\n"
          ]
        }
      ]
    },
    {
      "cell_type": "code",
      "source": [
        "#transactions = spark.read.csv(\"/content/transactions.csv\", header=True, inferSchema=True)\n",
        "#cust_imp = spark.read.csv(\"/content/CustomerImportance.csv\", header=True, inferSchema=True)"
      ],
      "metadata": {
        "id": "-L_m9gkJ_FHd"
      },
      "execution_count": null,
      "outputs": []
    },
    {
      "cell_type": "code",
      "source": [
        "from pyspark.sql import functions as F\n",
        "from pyspark.sql import types as T\n",
        "from pyspark.sql.window import Window\n",
        "\n",
        "ist_time = F.from_utc_timestamp(F.current_timestamp(), \"Asia/Kolkata\")\n"
      ],
      "metadata": {
        "id": "kerRnj5hCGWt"
      },
      "execution_count": null,
      "outputs": []
    },
    {
      "cell_type": "code",
      "source": [
        "transactions_clean = transactions.select(\n",
        "    F.col(\"customer\").alias(\"customerId\"),\n",
        "    F.col(\"merchant\").alias(\"merchantId\"),\n",
        "    F.col(\"category\").alias(\"transactionType\")\n",
        ")\n",
        "\n",
        "cust_imp_clean = cust_imp.select(\n",
        "    F.col(\"Source\").alias(\"customerId\"),\n",
        "    F.col(\"Target\").alias(\"merchantId\"),\n",
        "    F.col(\"Weight\").cast(\"double\").alias(\"weight\"),\n",
        "    F.col(\"typeTrans\").alias(\"transactionType\")\n",
        ")"
      ],
      "metadata": {
        "id": "ZwkYuObsBvHZ"
      },
      "execution_count": null,
      "outputs": []
    },
    {
      "cell_type": "code",
      "source": [
        "# Step 1:\n",
        "# Total transactions per merchant\n",
        "merchant_txn_counts = transactions_clean.groupBy(\"merchantId\").agg(\n",
        "    F.count(\"*\").alias(\"total_txns\")\n",
        ")\n",
        "\n",
        "# filter merchants with ≥ 50k transactions\n",
        "eligible_merchants = merchant_txn_counts.filter(\"total_txns >= 50000\")\n",
        "\n",
        "# Join to transactions to keep only eligible merchants\n",
        "filtered_txns = transactions_clean.join(\n",
        "    eligible_merchants.select(\"merchantId\"), on=\"merchantId\", how=\"inner\"\n",
        ")\n"
      ],
      "metadata": {
        "id": "DJsc4R3VDPQn"
      },
      "execution_count": null,
      "outputs": []
    },
    {
      "cell_type": "code",
      "source": [
        "merchant_txn_counts.show(2)"
      ],
      "metadata": {
        "colab": {
          "base_uri": "https://localhost:8080/"
        },
        "id": "6vX6gB-YDZrY",
        "outputId": "4bd554bd-b74e-4bb5-ee3e-6a64e14c130b"
      },
      "execution_count": null,
      "outputs": [
        {
          "output_type": "stream",
          "name": "stdout",
          "text": [
            "+------------+----------+\n",
            "|  merchantId|total_txns|\n",
            "+------------+----------+\n",
            "|'M857378720'|       122|\n",
            "| 'M97925176'|       599|\n",
            "+------------+----------+\n",
            "only showing top 2 rows\n",
            "\n"
          ]
        }
      ]
    },
    {
      "cell_type": "code",
      "source": [
        "eligible_merchants.show(2)"
      ],
      "metadata": {
        "colab": {
          "base_uri": "https://localhost:8080/"
        },
        "id": "cEth9AjRDdOg",
        "outputId": "66b9fde8-5b59-4d89-c583-45d0e6a8067c"
      },
      "execution_count": null,
      "outputs": [
        {
          "output_type": "stream",
          "name": "stdout",
          "text": [
            "+-------------+----------+\n",
            "|   merchantId|total_txns|\n",
            "+-------------+----------+\n",
            "| 'M348934600'|    205426|\n",
            "|'M1823072687'|    299693|\n",
            "+-------------+----------+\n",
            "\n"
          ]
        }
      ]
    },
    {
      "cell_type": "code",
      "source": [
        "filtered_txns.show(2)"
      ],
      "metadata": {
        "colab": {
          "base_uri": "https://localhost:8080/"
        },
        "id": "vdrXD1PsDhtX",
        "outputId": "d4dd0ea3-b5a1-4d7b-903a-6b38232508bd"
      },
      "execution_count": null,
      "outputs": [
        {
          "output_type": "stream",
          "name": "stdout",
          "text": [
            "+------------+-------------+-------------------+\n",
            "|  merchantId|   customerId|    transactionType|\n",
            "+------------+-------------+-------------------+\n",
            "|'M348934600'|'C1093826151'|'es_transportation'|\n",
            "|'M348934600'| 'C352968107'|'es_transportation'|\n",
            "+------------+-------------+-------------------+\n",
            "only showing top 2 rows\n",
            "\n"
          ]
        }
      ]
    },
    {
      "cell_type": "code",
      "source": [
        "# Step 2:\n",
        "# Count of transactions per customer per merchant\n",
        "cust_txn_counts = filtered_txns.groupBy(\"merchantId\", \"customerId\").agg(\n",
        "    F.count(\"*\").alias(\"txn_count\")\n",
        ")\n",
        "\n",
        "# Window for percentile calculation per merchant\n",
        "txn_window = Window.partitionBy(\"merchantId\").orderBy(F.desc(\"txn_count\"))\n",
        "\n",
        "# Add raw percentile rank\n",
        "cust_txn_counts = cust_txn_counts.withColumn(\n",
        "    \"txn_percentile_rank_raw\",\n",
        "    F.percent_rank().over(txn_window)\n",
        ")\n",
        "\n",
        "# Round to 4 decimal places to remove scientific notation\n",
        "cust_txn_counts = cust_txn_counts.withColumn(\n",
        "    \"txn_percentile_rank\", F.round(\"txn_percentile_rank_raw\", 4)\n",
        ").drop(\"txn_percentile_rank_raw\")\n",
        "\n",
        "# Top 10% customers by txn count\n",
        "top_txn_customers = cust_txn_counts.filter(F.col(\"txn_percentile_rank\") <= 0.1)"
      ],
      "metadata": {
        "id": "Kl4KGKIdDlqP"
      },
      "execution_count": null,
      "outputs": []
    },
    {
      "cell_type": "code",
      "source": [
        "cust_txn_counts.show(2)"
      ],
      "metadata": {
        "colab": {
          "base_uri": "https://localhost:8080/"
        },
        "id": "lDUgxTK6EETv",
        "outputId": "4ee84de5-4375-419d-adca-6e7d96f25e06"
      },
      "execution_count": null,
      "outputs": [
        {
          "output_type": "stream",
          "name": "stdout",
          "text": [
            "+-------------+------------+---------+-------------------+\n",
            "|   merchantId|  customerId|txn_count|txn_percentile_rank|\n",
            "+-------------+------------+---------+-------------------+\n",
            "|'M1823072687'|'C222098023'|      163|                0.0|\n",
            "|'M1823072687'|'C185820405'|      158|             3.0E-4|\n",
            "+-------------+------------+---------+-------------------+\n",
            "only showing top 2 rows\n",
            "\n"
          ]
        }
      ]
    },
    {
      "cell_type": "code",
      "source": [
        "top_txn_customers.show(3)"
      ],
      "metadata": {
        "colab": {
          "base_uri": "https://localhost:8080/"
        },
        "id": "txwwqYjtEJD3",
        "outputId": "00294946-5350-46fb-d693-9986d7802b35"
      },
      "execution_count": null,
      "outputs": [
        {
          "output_type": "stream",
          "name": "stdout",
          "text": [
            "+-------------+------------+---------+-------------------+\n",
            "|   merchantId|  customerId|txn_count|txn_percentile_rank|\n",
            "+-------------+------------+---------+-------------------+\n",
            "|'M1823072687'|'C222098023'|      163|                0.0|\n",
            "|'M1823072687'|'C185820405'|      158|             3.0E-4|\n",
            "|'M1823072687'|'C333484923'|      156|             6.0E-4|\n",
            "+-------------+------------+---------+-------------------+\n",
            "only showing top 3 rows\n",
            "\n"
          ]
        }
      ]
    },
    {
      "cell_type": "code",
      "source": [
        "# Step 3:\n",
        "# Join with cust_imp to get average weight\n",
        "joined = top_txn_customers.join(\n",
        "    cust_imp_clean,\n",
        "    on=[\"merchantId\", \"customerId\"],\n",
        "    how=\"inner\"\n",
        ")\n",
        "\n",
        "avg_weight_df = joined.groupBy(\"merchantId\", \"customerId\").agg(\n",
        "    F.avg(\"weight\").alias(\"avg_weight\")\n",
        ")\n",
        "\n",
        "# Window to rank avg_weight per merchant\n",
        "weight_window = Window.partitionBy(\"merchantId\").orderBy(\"avg_weight\")\n",
        "\n",
        "avg_weight_df = avg_weight_df.withColumn(\n",
        "    \"weight_percentile_rank\",\n",
        "    F.percent_rank().over(weight_window)\n",
        ")\n",
        "\n",
        "# Bottom 10% by weight\n",
        "final_pat1 = avg_weight_df.filter(\"weight_percentile_rank <= 0.1\")\n"
      ],
      "metadata": {
        "id": "2wNpeqVpEV_3"
      },
      "execution_count": null,
      "outputs": []
    },
    {
      "cell_type": "code",
      "source": [
        "joined.show(2)"
      ],
      "metadata": {
        "colab": {
          "base_uri": "https://localhost:8080/"
        },
        "id": "x7iDOtEOEiu_",
        "outputId": "65c556ce-fbd4-43c0-93df-21166d0dd6f5"
      },
      "execution_count": null,
      "outputs": [
        {
          "output_type": "stream",
          "name": "stdout",
          "text": [
            "+-------------+-------------+---------+-------------------+------+-------------------+\n",
            "|   merchantId|   customerId|txn_count|txn_percentile_rank|weight|    transactionType|\n",
            "+-------------+-------------+---------+-------------------+------+-------------------+\n",
            "| 'M348934600'|'C1861439904'|      113|             0.0843| 16.18|'es_transportation'|\n",
            "|'M1823072687'|'C1934785516'|      146|             0.0168| 22.57|'es_transportation'|\n",
            "+-------------+-------------+---------+-------------------+------+-------------------+\n",
            "only showing top 2 rows\n",
            "\n"
          ]
        }
      ]
    },
    {
      "cell_type": "code",
      "source": [
        "avg_weight_df.show(2)"
      ],
      "metadata": {
        "colab": {
          "base_uri": "https://localhost:8080/"
        },
        "id": "l-SYxx0AEmCG",
        "outputId": "fab74145-98b8-4ec0-bc81-f171ac86b7df"
      },
      "execution_count": null,
      "outputs": [
        {
          "output_type": "stream",
          "name": "stdout",
          "text": [
            "+-------------+-------------+------------------+----------------------+\n",
            "|   merchantId|   customerId|        avg_weight|weight_percentile_rank|\n",
            "+-------------+-------------+------------------+----------------------+\n",
            "|'M1823072687'|'C1214229415'| 22.57316176470588|                   0.0|\n",
            "|'M1823072687'|'C2035771335'|23.804571428571435|  0.002597402597402...|\n",
            "+-------------+-------------+------------------+----------------------+\n",
            "only showing top 2 rows\n",
            "\n"
          ]
        }
      ]
    },
    {
      "cell_type": "code",
      "source": [
        "final_pat1.show(2)"
      ],
      "metadata": {
        "colab": {
          "base_uri": "https://localhost:8080/"
        },
        "id": "n6Apb_efEoJn",
        "outputId": "e97d39be-c079-49de-ada4-dd2fa8c6c179"
      },
      "execution_count": null,
      "outputs": [
        {
          "output_type": "stream",
          "name": "stdout",
          "text": [
            "+-------------+-------------+------------------+----------------------+\n",
            "|   merchantId|   customerId|        avg_weight|weight_percentile_rank|\n",
            "+-------------+-------------+------------------+----------------------+\n",
            "|'M1823072687'|'C1214229415'| 22.57316176470588|                   0.0|\n",
            "|'M1823072687'|'C2035771335'|23.804571428571435|  0.002597402597402...|\n",
            "+-------------+-------------+------------------+----------------------+\n",
            "only showing top 2 rows\n",
            "\n"
          ]
        }
      ]
    },
    {
      "cell_type": "code",
      "source": [
        "result_pat1 = final_pat1.withColumn(\"patternId\", F.lit(\"PatId1\")) \\\n",
        "    .withColumn(\"actionType\", F.lit(\"UPGRADE\")) \\\n",
        "    .withColumn(\"YStartTime\", ist_time) \\\n",
        "    .withColumn(\"detectionTime\", ist_time) \\\n",
        "    .withColumn(\"customerName\", F.col(\"customerId\")) \\\n",
        "    .select(\n",
        "        \"YStartTime\", \"detectionTime\", \"patternId\", \"actionType\",\n",
        "        \"customerName\", \"merchantId\"\n",
        "    )\n",
        "\n",
        "  # result_pat1 holds the customer name that the merchant wants to upgrade\n",
        "  #"
      ],
      "metadata": {
        "id": "YxbGko-kEtWA"
      },
      "execution_count": null,
      "outputs": []
    },
    {
      "cell_type": "code",
      "source": [
        "result_pat1.show(5)"
      ],
      "metadata": {
        "colab": {
          "base_uri": "https://localhost:8080/"
        },
        "id": "OC6MBIxIE0jm",
        "outputId": "7857b56f-372a-4ac0-e6fb-d6ee2ebc396a"
      },
      "execution_count": null,
      "outputs": [
        {
          "output_type": "stream",
          "name": "stdout",
          "text": [
            "+--------------------+--------------------+---------+----------+-------------+-------------+\n",
            "|          YStartTime|       detectionTime|patternId|actionType| customerName|   merchantId|\n",
            "+--------------------+--------------------+---------+----------+-------------+-------------+\n",
            "|2025-07-11 19:11:...|2025-07-11 19:11:...|   PatId1|   UPGRADE|'C1214229415'|'M1823072687'|\n",
            "|2025-07-11 19:11:...|2025-07-11 19:11:...|   PatId1|   UPGRADE|'C2035771335'|'M1823072687'|\n",
            "|2025-07-11 19:11:...|2025-07-11 19:11:...|   PatId1|   UPGRADE|  'C15276068'|'M1823072687'|\n",
            "|2025-07-11 19:11:...|2025-07-11 19:11:...|   PatId1|   UPGRADE| 'C861002792'|'M1823072687'|\n",
            "|2025-07-11 19:11:...|2025-07-11 19:11:...|   PatId1|   UPGRADE| 'C566598245'|'M1823072687'|\n",
            "+--------------------+--------------------+---------+----------+-------------+-------------+\n",
            "only showing top 5 rows\n",
            "\n"
          ]
        }
      ]
    },
    {
      "cell_type": "markdown",
      "source": [
        "PatId2\n",
        "\n",
        "A customer whose average transaction value for a given merchant < Rs 23 and made at least 80 transactions with that merchant, merchant wants to mark them as CHILD(actionType) asap."
      ],
      "metadata": {
        "id": "X2B2NHnOGBRi"
      }
    },
    {
      "cell_type": "code",
      "source": [
        "transactions_clean = transactions.select(\n",
        "    F.col(\"customer\").alias(\"customerId\"),\n",
        "    F.col(\"merchant\").alias(\"merchantId\"),\n",
        "    F.col(\"amount\").cast(\"double\").alias(\"amount\")\n",
        ")\n",
        "\n",
        "# group by customers and merchants\n",
        "# we get custid, merchantid, transactions count, avg amount\n",
        "cust_merchant_stats = transactions_clean.groupBy(\"customerId\", \"merchantId\").agg(\n",
        "    F.count(\"*\").alias(\"txn_count\"),\n",
        "    F.avg(\"amount\").alias(\"avg_amount\")\n",
        ")\n",
        "\n",
        "# avg transaction < 23 and atleast 80 transactions\n",
        "pat2_result = cust_merchant_stats.filter(\n",
        "    (F.col(\"txn_count\") >= 80) &\n",
        "    (F.col(\"avg_amount\") < 23)\n",
        ")"
      ],
      "metadata": {
        "id": "L_aHPNhWFGu2"
      },
      "execution_count": null,
      "outputs": []
    },
    {
      "cell_type": "code",
      "source": [
        "cust_merchant_stats.show(2)"
      ],
      "metadata": {
        "colab": {
          "base_uri": "https://localhost:8080/"
        },
        "id": "HWPPjWy1F9Vu",
        "outputId": "3f1ceb5e-eb55-4ca6-8456-003c388fa5f6"
      },
      "execution_count": null,
      "outputs": [
        {
          "output_type": "stream",
          "name": "stdout",
          "text": [
            "+------------+------------+---------+-----------------+\n",
            "|  customerId|  merchantId|txn_count|       avg_amount|\n",
            "+------------+------------+---------+-----------------+\n",
            "|'C897057254'|'M348934600'|       41|27.27463414634146|\n",
            "|'C394979408'|'M348934600'|       93|28.32763440860216|\n",
            "+------------+------------+---------+-----------------+\n",
            "only showing top 2 rows\n",
            "\n"
          ]
        }
      ]
    },
    {
      "cell_type": "code",
      "source": [
        "pat2_result.show(2)"
      ],
      "metadata": {
        "colab": {
          "base_uri": "https://localhost:8080/"
        },
        "id": "zwB2QteAGJtW",
        "outputId": "94c59cb3-a8c6-4219-d194-c4b8bbcab920"
      },
      "execution_count": null,
      "outputs": [
        {
          "output_type": "stream",
          "name": "stdout",
          "text": [
            "+-------------+-------------+---------+------------------+\n",
            "|   customerId|   merchantId|txn_count|        avg_amount|\n",
            "+-------------+-------------+---------+------------------+\n",
            "|  'C71938921'| 'M348934600'|      112|22.461785714285703|\n",
            "|'C1799527037'|'M1823072687'|      103| 22.75106796116505|\n",
            "+-------------+-------------+---------+------------------+\n",
            "only showing top 2 rows\n",
            "\n"
          ]
        }
      ]
    },
    {
      "cell_type": "code",
      "source": [
        "# add required fields like time, pattern id and action type\n",
        "result_pat2 = pat2_result.withColumn(\"patternId\", F.lit(\"PatId2\")) \\\n",
        "    .withColumn(\"actionType\", F.lit(\"CHILD\")) \\\n",
        "    .withColumn(\"YStartTime\", ist_time) \\\n",
        "    .withColumn(\"detectionTime\", ist_time) \\\n",
        "    .withColumn(\"customerName\", F.col(\"customerId\")) \\\n",
        "    .select(\n",
        "        \"YStartTime\", \"detectionTime\", \"patternId\", \"actionType\",\n",
        "        \"customerName\", \"merchantId\"\n",
        "    )"
      ],
      "metadata": {
        "id": "OLw-OnV6GNOd"
      },
      "execution_count": null,
      "outputs": []
    },
    {
      "cell_type": "code",
      "source": [
        "result_pat2.show(5)"
      ],
      "metadata": {
        "colab": {
          "base_uri": "https://localhost:8080/"
        },
        "id": "_xrTBHYgGRCl",
        "outputId": "a3315960-2181-474b-abbc-5403f83bc2cd"
      },
      "execution_count": null,
      "outputs": [
        {
          "output_type": "stream",
          "name": "stdout",
          "text": [
            "+--------------------+--------------------+---------+----------+-------------+-------------+\n",
            "|          YStartTime|       detectionTime|patternId|actionType| customerName|   merchantId|\n",
            "+--------------------+--------------------+---------+----------+-------------+-------------+\n",
            "|2025-07-11 19:12:...|2025-07-11 19:12:...|   PatId2|     CHILD|  'C71938921'| 'M348934600'|\n",
            "|2025-07-11 19:12:...|2025-07-11 19:12:...|   PatId2|     CHILD|'C1799527037'|'M1823072687'|\n",
            "|2025-07-11 19:12:...|2025-07-11 19:12:...|   PatId2|     CHILD| 'C747353905'|'M1823072687'|\n",
            "|2025-07-11 19:12:...|2025-07-11 19:12:...|   PatId2|     CHILD| 'C474891377'|'M1823072687'|\n",
            "|2025-07-11 19:12:...|2025-07-11 19:12:...|   PatId2|     CHILD|'C1098443227'|'M1823072687'|\n",
            "+--------------------+--------------------+---------+----------+-------------+-------------+\n",
            "only showing top 5 rows\n",
            "\n"
          ]
        }
      ]
    },
    {
      "cell_type": "markdown",
      "source": [
        "PAT ID3"
      ],
      "metadata": {
        "id": "SvvIVsz-G-e9"
      }
    },
    {
      "cell_type": "code",
      "source": [
        "gender_df = transactions.select(\n",
        "    F.expr(\"substring(merchant, 2, length(merchant) - 2)\").alias(\"merchantId\"),\n",
        "    F.expr(\"substring(customer, 2, length(customer) - 2)\").alias(\"customerId\"),\n",
        "    F.expr(\"substring(gender, 2, 1)\").alias(\"gender\")  # 'F' → F, 'M' → M\n",
        ")\n",
        "\n",
        "# Count distinct genders per customer per merchant\n",
        "gender_clean_check = gender_df.groupBy(\"merchantId\", \"customerId\") \\\n",
        "    .agg(F.countDistinct(\"gender\").alias(\"gender_type_count\"))\n",
        "\n",
        "# Keep only clean records (1 gender only per customer per merchant)\n",
        "clean_customers = gender_clean_check.filter(\"gender_type_count = 1\") \\\n",
        "    .select(\"merchantId\", \"customerId\")\n",
        "\n",
        "# Join back to filter ambiguous entries\n",
        "gender_cleaned = gender_df.join(clean_customers, on=[\"merchantId\", \"customerId\"], how=\"inner\")\n"
      ],
      "metadata": {
        "id": "fnYR_R08IhGb"
      },
      "execution_count": null,
      "outputs": []
    },
    {
      "cell_type": "code",
      "source": [
        "# Remove duplicate customer-merchant-gender combos\n",
        "unique_pairs = gender_cleaned.select(\"merchantId\", \"customerId\", \"gender\").distinct()\n",
        "\n",
        "# Pivot to get gender counts\n",
        "gender_counts = unique_pairs.groupBy(\"merchantId\") \\\n",
        "    .pivot(\"gender\", [\"F\", \"M\"]).count().fillna(0)\n"
      ],
      "metadata": {
        "id": "-v6maNzqNiU1"
      },
      "execution_count": null,
      "outputs": []
    },
    {
      "cell_type": "code",
      "source": [
        "gender_counts.show(5)"
      ],
      "metadata": {
        "colab": {
          "base_uri": "https://localhost:8080/"
        },
        "id": "xh40rDwWN8T2",
        "outputId": "6c4cc881-0ee3-4a77-ac7e-ca19039743ac"
      },
      "execution_count": null,
      "outputs": [
        {
          "output_type": "stream",
          "name": "stdout",
          "text": [
            "+-----------+---+---+\n",
            "| merchantId|  F|  M|\n",
            "+-----------+---+---+\n",
            "| M692898500|327|220|\n",
            "| M732195782|223|179|\n",
            "| M117188757|  8| 12|\n",
            "|M1535107174|598|433|\n",
            "| M547558035|366|250|\n",
            "+-----------+---+---+\n",
            "only showing top 5 rows\n",
            "\n"
          ]
        }
      ]
    },
    {
      "cell_type": "code",
      "source": [
        "dei_merchants = gender_counts.filter(\n",
        "    (F.col(\"F\") > 100) & (F.col(\"F\") < F.col(\"M\"))\n",
        ")\n"
      ],
      "metadata": {
        "id": "TJ2XxnrLN_XU"
      },
      "execution_count": null,
      "outputs": []
    },
    {
      "cell_type": "code",
      "source": [
        "dei_merchants.show()"
      ],
      "metadata": {
        "colab": {
          "base_uri": "https://localhost:8080/"
        },
        "id": "k6VqJtdaODi0",
        "outputId": "ce2f2933-de2a-4fef-bf83-daf23a58ced2"
      },
      "execution_count": null,
      "outputs": [
        {
          "output_type": "stream",
          "name": "stdout",
          "text": [
            "+----------+---+---+\n",
            "|merchantId|  F|  M|\n",
            "+----------+---+---+\n",
            "|M677738360|173|174|\n",
            "+----------+---+---+\n",
            "\n"
          ]
        }
      ]
    },
    {
      "cell_type": "code",
      "source": [
        "result_pat3 = dei_merchants.withColumn(\"patternId\", F.lit(\"PatId3\")) \\\n",
        "    .withColumn(\"actionType\", F.lit(\"DEI-NEEDED\")) \\\n",
        "    .withColumn(\"YStartTime\", ist_time) \\\n",
        "    .withColumn(\"detectionTime\", ist_time) \\\n",
        "    .withColumn(\"customerName\", F.lit(\"\")) \\\n",
        "    .select(\n",
        "        \"YStartTime\", \"detectionTime\", \"patternId\", \"actionType\",\n",
        "        \"customerName\", \"merchantId\"\n",
        "    )"
      ],
      "metadata": {
        "id": "ORB5mFEIOFjN"
      },
      "execution_count": null,
      "outputs": []
    },
    {
      "cell_type": "code",
      "source": [
        "result_pat3.show()\n",
        "print(\"Pattern 3 count:\", result_pat3.count())\n",
        "\n",
        "# Verify gender distribution for one detected merchant\n",
        "sample = result_pat3.select(\"merchantId\").limit(1).collect()[0][\"merchantId\"]\n",
        "unique_pairs.filter(F.col(\"merchantId\") == sample).groupBy(\"gender\").count().show()\n",
        "\n"
      ],
      "metadata": {
        "colab": {
          "base_uri": "https://localhost:8080/"
        },
        "id": "Vk7zYqhROXAm",
        "outputId": "90c188f2-7528-4839-c096-f723e6b13795"
      },
      "execution_count": null,
      "outputs": [
        {
          "output_type": "stream",
          "name": "stdout",
          "text": [
            "+--------------------+--------------------+---------+----------+------------+----------+\n",
            "|          YStartTime|       detectionTime|patternId|actionType|customerName|merchantId|\n",
            "+--------------------+--------------------+---------+----------+------------+----------+\n",
            "|2025-07-11 19:12:...|2025-07-11 19:12:...|   PatId3|DEI-NEEDED|            |M677738360|\n",
            "+--------------------+--------------------+---------+----------+------------+----------+\n",
            "\n",
            "Pattern 3 count: 1\n",
            "+------+-----+\n",
            "|gender|count|\n",
            "+------+-----+\n",
            "|     F|  173|\n",
            "|     E|    1|\n",
            "|     M|  174|\n",
            "+------+-----+\n",
            "\n"
          ]
        }
      ]
    },
    {
      "cell_type": "code",
      "source": [
        "from functools import reduce\n",
        "\n",
        "combined_df = reduce(\n",
        "    lambda df1, df2: df1.unionByName(df2),\n",
        "    [result_pat1, result_pat2, result_pat3]\n",
        ")\n"
      ],
      "metadata": {
        "id": "XOGm5uYAOb9c"
      },
      "execution_count": null,
      "outputs": []
    },
    {
      "cell_type": "code",
      "source": [
        "combined_df.show(10, truncate=False)\n",
        "print(\"Total combined detections:\", combined_df.count())\n",
        "combined_df.groupBy(\"patternId\").count().show()\n"
      ],
      "metadata": {
        "colab": {
          "base_uri": "https://localhost:8080/"
        },
        "id": "dFBXBZAJOtP8",
        "outputId": "83a79aa8-3ee8-4e88-98c2-416ac5816b33"
      },
      "execution_count": null,
      "outputs": [
        {
          "output_type": "stream",
          "name": "stdout",
          "text": [
            "+--------------------------+--------------------------+---------+----------+-------------+-------------+\n",
            "|YStartTime                |detectionTime             |patternId|actionType|customerName |merchantId   |\n",
            "+--------------------------+--------------------------+---------+----------+-------------+-------------+\n",
            "|2025-07-11 19:12:52.522472|2025-07-11 19:12:52.522472|PatId1   |UPGRADE   |'C1214229415'|'M1823072687'|\n",
            "|2025-07-11 19:12:52.522472|2025-07-11 19:12:52.522472|PatId1   |UPGRADE   |'C2035771335'|'M1823072687'|\n",
            "|2025-07-11 19:12:52.522472|2025-07-11 19:12:52.522472|PatId1   |UPGRADE   |'C15276068'  |'M1823072687'|\n",
            "|2025-07-11 19:12:52.522472|2025-07-11 19:12:52.522472|PatId1   |UPGRADE   |'C861002792' |'M1823072687'|\n",
            "|2025-07-11 19:12:52.522472|2025-07-11 19:12:52.522472|PatId1   |UPGRADE   |'C566598245' |'M1823072687'|\n",
            "|2025-07-11 19:12:52.522472|2025-07-11 19:12:52.522472|PatId1   |UPGRADE   |'C1433843082'|'M1823072687'|\n",
            "|2025-07-11 19:12:52.522472|2025-07-11 19:12:52.522472|PatId1   |UPGRADE   |'C1048588440'|'M1823072687'|\n",
            "|2025-07-11 19:12:52.522472|2025-07-11 19:12:52.522472|PatId1   |UPGRADE   |'C1975392482'|'M1823072687'|\n",
            "|2025-07-11 19:12:52.522472|2025-07-11 19:12:52.522472|PatId1   |UPGRADE   |'C735039923' |'M1823072687'|\n",
            "|2025-07-11 19:12:52.522472|2025-07-11 19:12:52.522472|PatId1   |UPGRADE   |'C1337923906'|'M1823072687'|\n",
            "+--------------------------+--------------------------+---------+----------+-------------+-------------+\n",
            "only showing top 10 rows\n",
            "\n",
            "Total combined detections: 115\n",
            "+---------+-----+\n",
            "|patternId|count|\n",
            "+---------+-----+\n",
            "|   PatId1|   80|\n",
            "|   PatId2|   34|\n",
            "|   PatId3|    1|\n",
            "+---------+-----+\n",
            "\n"
          ]
        }
      ]
    },
    {
      "cell_type": "code",
      "source": [],
      "metadata": {
        "id": "pm1KxGrcRWUZ"
      },
      "execution_count": null,
      "outputs": []
    },
    {
      "cell_type": "code",
      "source": [],
      "metadata": {
        "id": "sNnfZtLQSOEC"
      },
      "execution_count": null,
      "outputs": []
    }
  ]
}